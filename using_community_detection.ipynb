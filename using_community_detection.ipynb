{
 "cells": [
  {
   "cell_type": "code",
   "execution_count": 68,
   "metadata": {},
   "outputs": [],
   "source": [
    "from community_detection import *      \n",
    "from time import *"
   ]
  },
  {
   "cell_type": "code",
   "execution_count": 69,
   "metadata": {},
   "outputs": [
    {
     "name": "stdout",
     "output_type": "stream",
     "text": [
      "['Alice', 'Bob', 'Bob', 'Charlie', 'Alice', 'Dominique', 'Bob', 'Dominique']\n"
     ]
    }
   ],
   "source": [
    "tab_amis = lecture_reseau(\"files/Communaute0.csv\")\n",
    "print(tab_amis)"
   ]
  },
  {
   "cell_type": "code",
   "execution_count": 70,
   "metadata": {},
   "outputs": [
    {
     "name": "stdout",
     "output_type": "stream",
     "text": [
      "0.0\n"
     ]
    },
    {
     "data": {
      "text/plain": [
       "0.005983"
      ]
     },
     "execution_count": 70,
     "metadata": {},
     "output_type": "execute_result"
    }
   ],
   "source": [
    "# Temps d'execution de la fonction dico_reseau\n",
    "\n",
    "def temps_dico_reseau(tableau):\n",
    "    tic = time()\n",
    "    dico_amis = dico_reseau(tableau)\n",
    "    tac = time()\n",
    "    temps = round( 1000 * (tac-tic) , 3)\n",
    "    \n",
    "    return  temps\n",
    "\n",
    "print (temps_dico_reseau(tab_amis))    \n",
    "\n",
    "\n",
    "# Moyenne de temps d'execution de dico_reseau sur n test\n",
    "\n",
    "def temps_dico_reseau_moyen(tableau_amis,n):\n",
    "    i = 0\n",
    "    tab = []\n",
    "    somme = 0\n",
    "    moyenne = 0\n",
    "    \n",
    "    while i < n:\n",
    "        tab.append(temps_dico_reseau(tableau_amis))\n",
    "        i += 1\n",
    "\n",
    "    for i in range(0 , len(tab)):\n",
    "        somme += tab[i]\n",
    "    \n",
    "    moyenne = somme/len(tab)\n",
    "    return moyenne\n",
    "    \n",
    "\n",
    "temps_dico_reseau_moyen(tab_amis,1000)\n",
    "\n"
   ]
  },
  {
   "cell_type": "code",
   "execution_count": 87,
   "metadata": {},
   "outputs": [
    {
     "data": {
      "text/plain": [
       "0.001994"
      ]
     },
     "execution_count": 87,
     "metadata": {},
     "output_type": "execute_result"
    }
   ],
   "source": [
    "# Temps d'execution de la fonction create_network\n",
    "\n",
    "def temps_create_network(tableau):\n",
    "    tic = time()\n",
    "    network = create_network(tableau)\n",
    "    tac = time()\n",
    "    \n",
    "    temps = round( 1000 * (tac-tic) , 3)\n",
    "\n",
    "    return temps\n",
    "\n",
    "\n",
    "\n",
    "# Moyenne de temps d'execution de create_network sur n test\n",
    "\n",
    "def temps_create_network_moyens(tableau_amis,n):\n",
    "    i = 0\n",
    "    tab = []\n",
    "    somme = 0\n",
    "    moyenne = 0\n",
    "    \n",
    "    while i < n:\n",
    "        tab.append(temps_create_network(tableau_amis))\n",
    "        i += 1\n",
    "\n",
    "    for j in range(0 , len(tab)):\n",
    "        somme += tab[j]\n",
    "    \n",
    "    moyenne = somme/len(tab)\n",
    "\n",
    "    return moyenne\n",
    "\n",
    "\n",
    "temps_create_network_moyens(tab_amis,1000)"
   ]
  },
  {
   "attachments": {},
   "cell_type": "markdown",
   "metadata": {},
   "source": [
    "En moyenne (meme si les resultats changent legerement a chaques lancé), la fonction dico_reseau() de la premiere partie met\n",
    "entre 0,020 et 0,030 secondes a s'executer ce qui est majoritairement plus long que la fonction create_network() qui elle met entre 0,001 et 0,005 seconde a s'executer.\n",
    "Cela est dut au fait que la fonction dico_reseau appel une autre fonction dans une boucle while ce qui fait monter sa complexité a O(n²) alors que la fonction create_network() ne parcours la liste qu'une fois et ne depend que d'elle meme ce qui la rend plus rapide. La complexité de temps theorique de create_network est O(n)"
   ]
  },
  {
   "cell_type": "code",
   "execution_count": 91,
   "metadata": {},
   "outputs": [
    {
     "data": {
      "text/plain": [
       "0.12124400000000003"
      ]
     },
     "execution_count": 91,
     "metadata": {},
     "output_type": "execute_result"
    }
   ],
   "source": [
    "\n",
    "# Temps d'execution de la fonction find_community_by_decreasing_popularity \n",
    "network = dico_reseau('files/Communaute0.csv')\n",
    "\n",
    "def temps_find_community_by_decreasing_popularity(network):\n",
    "    tic = time()\n",
    "    test = find_community_by_decreasing_popularity(network)\n",
    "    tac = time()\n",
    "    temps = round( 1000 * (tac-tic) , 3)\n",
    "    \n",
    "    return  temps\n",
    "\n",
    "\n",
    "# Moyenne de temps d'execution de find_community_by_decreasing_popularity sur n test\n",
    "\n",
    "def moyenne_temps_find_community_by_decreasing_popularity(network,n):\n",
    "    tab = []\n",
    "    i = 0\n",
    "    moyenne = 0\n",
    "    somme = 0\n",
    "    while i < n:\n",
    "        tab.append(temps_find_community_by_decreasing_popularity(network))\n",
    "        i+=1\n",
    "    \n",
    "    for j in range(0 , len(tab)):\n",
    "        somme += tab[j]\n",
    "    \n",
    "    moyenne = somme/len(tab)\n",
    "\n",
    "    return moyenne\n",
    "\n",
    "moyenne_temps_find_community_by_decreasing_popularity(network,1000)"
   ]
  },
  {
   "cell_type": "code",
   "execution_count": 93,
   "metadata": {},
   "outputs": [
    {
     "name": "stdout",
     "output_type": "stream",
     "text": [
      "0.013989999999999999\n"
     ]
    }
   ],
   "source": [
    "\n",
    "# Temps d'execution de la fonction find_community_from_person\n",
    "network = dico_reseau('files/Communaute0.csv')\n",
    "\n",
    "def temps_find_community_from_person(network):\n",
    "    tic = time()\n",
    "    person = les_plus_pop(network)\n",
    "    person = person[0]\n",
    "    tac = time()\n",
    "\n",
    "    tic2 = time()\n",
    "    test = find_community_from_person(network, person)\n",
    "    tac2 = time()\n",
    "\n",
    "    temps = round( 1000 * ((tac-tic)+(tac2-tic2)) , 3)\n",
    "\n",
    "    return temps\n",
    "\n",
    "\n",
    "\n",
    "# Moyenne de temps d'execution de find_community_from_person sur n test\n",
    "\n",
    "def moyenne_temps_find_community_from_person(network,n):\n",
    "    tab = []\n",
    "    i = 0\n",
    "    moyenne = 0\n",
    "    somme = 0\n",
    "\n",
    "    while i < n:\n",
    "        tab.append(temps_find_community_from_person(network))\n",
    "        i+=1\n",
    "    \n",
    "    for j in range(0, len(tab)):\n",
    "        somme += tab[j]\n",
    "\n",
    "    moyenne = somme/len(tab)\n",
    "\n",
    "    return moyenne\n",
    "\n",
    "print(moyenne_temps_find_community_from_person(network, 1000))"
   ]
  },
  {
   "attachments": {},
   "cell_type": "markdown",
   "metadata": {},
   "source": [
    "En comparant les fonctions find_community_by_decreasing_popularity et find_community_from_person, on s'aperçoit que la première met en moyenne 0.12 secondes à s'exécuter contre 0.014 pour la deuxième. L'écart est assez énorme, la première est environ 10 fois plus longue à s'exécuter que la deuxième. Cela s'explique par le fait qu'elle appelle dans sa définition la fonction order_by_decreasing_popularity, qui est une fonction de complexité O(n²) + O(n), car elle contient une boucle et une boucle imbriquée. Ajoutons à cela que la fonction contient une boucle, donc en plus une opération de complexité O(n)."
   ]
  }
 ],
 "metadata": {
  "kernelspec": {
   "display_name": "Python 3 (ipykernel)",
   "language": "python",
   "name": "python3"
  },
  "language_info": {
   "codemirror_mode": {
    "name": "ipython",
    "version": 3
   },
   "file_extension": ".py",
   "mimetype": "text/x-python",
   "name": "python",
   "nbconvert_exporter": "python",
   "pygments_lexer": "ipython3",
   "version": "3.10.5"
  },
  "vscode": {
   "interpreter": {
    "hash": "26de051ba29f2982a8de78e945f0abaf191376122a1563185a90213a26c5da77"
   }
  }
 },
 "nbformat": 4,
 "nbformat_minor": 2
}
